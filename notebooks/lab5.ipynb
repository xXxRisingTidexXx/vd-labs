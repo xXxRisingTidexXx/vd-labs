{
 "cells": [
  {
   "cell_type": "markdown",
   "id": "apparent-consultation",
   "metadata": {},
   "source": [
    "# №1"
   ]
  },
  {
   "cell_type": "code",
   "execution_count": 2,
   "id": "indirect-handle",
   "metadata": {},
   "outputs": [
    {
     "data": {
      "text/html": [
       "<style>\n",
       ".list-inline {list-style: none; margin:0; padding: 0}\n",
       ".list-inline>li {display: inline-block}\n",
       ".list-inline>li:not(:last-child)::after {content: \"\\00b7\"; padding: 0 .5ex}\n",
       "</style>\n",
       "<ol class=list-inline><li>1</li><li>2</li><li>3</li><li>4</li><li>0</li><li>0</li><li>0</li><li>0</li><li>9</li><li>10</li></ol>\n"
      ],
      "text/latex": [
       "\\begin{enumerate*}\n",
       "\\item 1\n",
       "\\item 2\n",
       "\\item 3\n",
       "\\item 4\n",
       "\\item 0\n",
       "\\item 0\n",
       "\\item 0\n",
       "\\item 0\n",
       "\\item 9\n",
       "\\item 10\n",
       "\\end{enumerate*}\n"
      ],
      "text/markdown": [
       "1. 1\n",
       "2. 2\n",
       "3. 3\n",
       "4. 4\n",
       "5. 0\n",
       "6. 0\n",
       "7. 0\n",
       "8. 0\n",
       "9. 9\n",
       "10. 10\n",
       "\n",
       "\n"
      ],
      "text/plain": [
       " [1]  1  2  3  4  0  0  0  0  9 10"
      ]
     },
     "metadata": {},
     "output_type": "display_data"
    }
   ],
   "source": [
    "x <- 1:10\n",
    "ifelse(x < 5 | x > 8, x, 0)"
   ]
  },
  {
   "cell_type": "markdown",
   "id": "green-price",
   "metadata": {},
   "source": [
    "# №2"
   ]
  },
  {
   "cell_type": "code",
   "execution_count": 26,
   "id": "married-leader",
   "metadata": {},
   "outputs": [],
   "source": [
    "result <- function(n, p, t) {\n",
    "    sp <- p * (t + 1) / 24\n",
    "    total <- n * (1 + sp / 100)\n",
    "    cat(\"sp =\", round(sp, 2), \"%; total price =\", total, \"UAH\")\n",
    "}"
   ]
  },
  {
   "cell_type": "code",
   "execution_count": 27,
   "id": "changed-tracker",
   "metadata": {},
   "outputs": [
    {
     "name": "stdout",
     "output_type": "stream",
     "text": [
      "sp = 2.92 %; total price = 30875 UAH"
     ]
    }
   ],
   "source": [
    "result(30000, 35, 1)"
   ]
  },
  {
   "cell_type": "code",
   "execution_count": 28,
   "id": "capital-climate",
   "metadata": {},
   "outputs": [
    {
     "name": "stdout",
     "output_type": "stream",
     "text": [
      "sp = 5.83 %; total price = 31750 UAH"
     ]
    }
   ],
   "source": [
    "result(30000, 35, 3)"
   ]
  },
  {
   "cell_type": "code",
   "execution_count": 29,
   "id": "aggregate-firewall",
   "metadata": {},
   "outputs": [
    {
     "name": "stdout",
     "output_type": "stream",
     "text": [
      "sp = 18.96 %; total price = 35687.5 UAH"
     ]
    }
   ],
   "source": [
    "result(30000, 35, 12)"
   ]
  },
  {
   "cell_type": "markdown",
   "id": "supreme-mouse",
   "metadata": {},
   "source": [
    "# №3"
   ]
  },
  {
   "cell_type": "code",
   "execution_count": 22,
   "id": "excessive-senior",
   "metadata": {},
   "outputs": [],
   "source": [
    "verify <- function(p, n) {\n",
    "    distance <- 100 * (1 + p / 100) ** n\n",
    "    cat(\n",
    "        ifelse(distance >= 10000, \"The method is viable, distance =\", \"The method is useless, distance =\"),\n",
    "        round(distance, 2),\n",
    "        \"m\"\n",
    "    )\n",
    "}"
   ]
  },
  {
   "cell_type": "code",
   "execution_count": 24,
   "id": "taken-missile",
   "metadata": {},
   "outputs": [
    {
     "name": "stdout",
     "output_type": "stream",
     "text": [
      "The method is viable, distance = 13150.13 m"
     ]
    }
   ],
   "source": [
    "verify(5, 100)"
   ]
  },
  {
   "cell_type": "code",
   "execution_count": 25,
   "id": "worldwide-subsection",
   "metadata": {},
   "outputs": [
    {
     "name": "stdout",
     "output_type": "stream",
     "text": [
      "The method is viable, distance = 11739.09 m"
     ]
    }
   ],
   "source": [
    "verify(10, 50)"
   ]
  }
 ],
 "metadata": {
  "kernelspec": {
   "display_name": "R",
   "language": "R",
   "name": "ir"
  },
  "language_info": {
   "codemirror_mode": "r",
   "file_extension": ".r",
   "mimetype": "text/x-r-source",
   "name": "R",
   "pygments_lexer": "r",
   "version": "4.0.3"
  }
 },
 "nbformat": 4,
 "nbformat_minor": 5
}
