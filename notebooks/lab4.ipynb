{
 "cells": [
  {
   "cell_type": "markdown",
   "id": "english-professional",
   "metadata": {},
   "source": [
    "# №1"
   ]
  },
  {
   "cell_type": "code",
   "execution_count": 1,
   "id": "threatened-advancement",
   "metadata": {},
   "outputs": [
    {
     "data": {
      "text/html": [
       "<style>\n",
       ".list-inline {list-style: none; margin:0; padding: 0}\n",
       ".list-inline>li {display: inline-block}\n",
       ".list-inline>li:not(:last-child)::after {content: \"\\00b7\"; padding: 0 .5ex}\n",
       "</style>\n",
       "<ol class=list-inline><li>8</li><li>10</li><li>&lt;NA&gt;</li><li>&lt;NA&gt;</li><li>8</li><li>&lt;NA&gt;</li><li>8</li></ol>\n"
      ],
      "text/latex": [
       "\\begin{enumerate*}\n",
       "\\item 8\n",
       "\\item 10\n",
       "\\item <NA>\n",
       "\\item <NA>\n",
       "\\item 8\n",
       "\\item <NA>\n",
       "\\item 8\n",
       "\\end{enumerate*}\n"
      ],
      "text/markdown": [
       "1. 8\n",
       "2. 10\n",
       "3. &lt;NA&gt;\n",
       "4. &lt;NA&gt;\n",
       "5. 8\n",
       "6. &lt;NA&gt;\n",
       "7. 8\n",
       "\n",
       "\n"
      ],
      "text/plain": [
       "[1]  8 10 NA NA  8 NA  8"
      ]
     },
     "metadata": {},
     "output_type": "display_data"
    }
   ],
   "source": [
    "h <- c(8, 10, NA, NA, 8, NA, 8)\n",
    "h"
   ]
  },
  {
   "cell_type": "code",
   "execution_count": 2,
   "id": "pointed-weather",
   "metadata": {},
   "outputs": [
    {
     "data": {
      "text/html": [
       "8.5"
      ],
      "text/latex": [
       "8.5"
      ],
      "text/markdown": [
       "8.5"
      ],
      "text/plain": [
       "[1] 8.5"
      ]
     },
     "metadata": {},
     "output_type": "display_data"
    }
   ],
   "source": [
    "mean(h, na.rm=TRUE)"
   ]
  },
  {
   "cell_type": "code",
   "execution_count": 3,
   "id": "divided-bangladesh",
   "metadata": {},
   "outputs": [
    {
     "data": {
      "text/html": [
       "8.5"
      ],
      "text/latex": [
       "8.5"
      ],
      "text/markdown": [
       "8.5"
      ],
      "text/plain": [
       "[1] 8.5"
      ]
     },
     "metadata": {},
     "output_type": "display_data"
    }
   ],
   "source": [
    "mean(na.omit(h))"
   ]
  },
  {
   "cell_type": "code",
   "execution_count": 4,
   "id": "fleet-input",
   "metadata": {},
   "outputs": [
    {
     "data": {
      "text/html": [
       "<style>\n",
       ".list-inline {list-style: none; margin:0; padding: 0}\n",
       ".list-inline>li {display: inline-block}\n",
       ".list-inline>li:not(:last-child)::after {content: \"\\00b7\"; padding: 0 .5ex}\n",
       "</style>\n",
       "<ol class=list-inline><li>8</li><li>10</li><li>8.5</li><li>8.5</li><li>8</li><li>8.5</li><li>8</li></ol>\n"
      ],
      "text/latex": [
       "\\begin{enumerate*}\n",
       "\\item 8\n",
       "\\item 10\n",
       "\\item 8.5\n",
       "\\item 8.5\n",
       "\\item 8\n",
       "\\item 8.5\n",
       "\\item 8\n",
       "\\end{enumerate*}\n"
      ],
      "text/markdown": [
       "1. 8\n",
       "2. 10\n",
       "3. 8.5\n",
       "4. 8.5\n",
       "5. 8\n",
       "6. 8.5\n",
       "7. 8\n",
       "\n",
       "\n"
      ],
      "text/plain": [
       "[1]  8.0 10.0  8.5  8.5  8.0  8.5  8.0"
      ]
     },
     "metadata": {},
     "output_type": "display_data"
    }
   ],
   "source": [
    "h[is.na(h)] <- mean(h, na.rm=TRUE)\n",
    "h"
   ]
  },
  {
   "cell_type": "code",
   "execution_count": 5,
   "id": "promising-element",
   "metadata": {},
   "outputs": [
    {
     "data": {
      "text/html": [
       "8.5"
      ],
      "text/latex": [
       "8.5"
      ],
      "text/markdown": [
       "8.5"
      ],
      "text/plain": [
       "[1] 8.5"
      ]
     },
     "metadata": {},
     "output_type": "display_data"
    }
   ],
   "source": [
    "mean(h)"
   ]
  },
  {
   "cell_type": "markdown",
   "id": "applicable-classroom",
   "metadata": {},
   "source": [
    "# №2"
   ]
  },
  {
   "cell_type": "code",
   "execution_count": 6,
   "id": "cardiovascular-measurement",
   "metadata": {},
   "outputs": [
    {
     "data": {
      "text/html": [
       "<table class=\"dataframe\">\n",
       "<caption>A data.frame: 6 × 3</caption>\n",
       "<thead>\n",
       "\t<tr><th scope=col>City</th><th scope=col>Gender</th><th scope=col>Number</th></tr>\n",
       "\t<tr><th scope=col>&lt;chr&gt;</th><th scope=col>&lt;chr&gt;</th><th scope=col>&lt;dbl&gt;</th></tr>\n",
       "</thead>\n",
       "<tbody>\n",
       "\t<tr><td>City1</td><td>Male  </td><td>12150</td></tr>\n",
       "\t<tr><td>City1</td><td>Female</td><td>23210</td></tr>\n",
       "\t<tr><td>City2</td><td>Male  </td><td>14353</td></tr>\n",
       "\t<tr><td>City2</td><td>Female</td><td>22022</td></tr>\n",
       "\t<tr><td>City3</td><td>Male  </td><td>11388</td></tr>\n",
       "\t<tr><td>City3</td><td>Female</td><td>54334</td></tr>\n",
       "</tbody>\n",
       "</table>\n"
      ],
      "text/latex": [
       "A data.frame: 6 × 3\n",
       "\\begin{tabular}{lll}\n",
       " City & Gender & Number\\\\\n",
       " <chr> & <chr> & <dbl>\\\\\n",
       "\\hline\n",
       "\t City1 & Male   & 12150\\\\\n",
       "\t City1 & Female & 23210\\\\\n",
       "\t City2 & Male   & 14353\\\\\n",
       "\t City2 & Female & 22022\\\\\n",
       "\t City3 & Male   & 11388\\\\\n",
       "\t City3 & Female & 54334\\\\\n",
       "\\end{tabular}\n"
      ],
      "text/markdown": [
       "\n",
       "A data.frame: 6 × 3\n",
       "\n",
       "| City &lt;chr&gt; | Gender &lt;chr&gt; | Number &lt;dbl&gt; |\n",
       "|---|---|---|\n",
       "| City1 | Male   | 12150 |\n",
       "| City1 | Female | 23210 |\n",
       "| City2 | Male   | 14353 |\n",
       "| City2 | Female | 22022 |\n",
       "| City3 | Male   | 11388 |\n",
       "| City3 | Female | 54334 |\n",
       "\n"
      ],
      "text/plain": [
       "  City  Gender Number\n",
       "1 City1 Male   12150 \n",
       "2 City1 Female 23210 \n",
       "3 City2 Male   14353 \n",
       "4 City2 Female 22022 \n",
       "5 City3 Male   11388 \n",
       "6 City3 Female 54334 "
      ]
     },
     "metadata": {},
     "output_type": "display_data"
    }
   ],
   "source": [
    "city <- c(\"City1\", \"City1\", \"City2\", \"City2\", \"City3\", \"City3\")\n",
    "gender <- c(\"Male\", \"Female\", \"Male\", \"Female\", \"Male\", \"Female\")\n",
    "number <- c(12150, 23210, 14353, 22022, 11388, 54334)\n",
    "CITY <- data.frame(City=city, Gender=gender, Number=number)\n",
    "CITY"
   ]
  },
  {
   "cell_type": "code",
   "execution_count": 7,
   "id": "written-absence",
   "metadata": {},
   "outputs": [
    {
     "data": {
      "text/html": [
       "<table class=\"dataframe\">\n",
       "<caption>A data.frame: 6 × 3</caption>\n",
       "<thead>\n",
       "\t<tr><th scope=col>City</th><th scope=col>Gender</th><th scope=col>Number</th></tr>\n",
       "\t<tr><th scope=col>&lt;chr&gt;</th><th scope=col>&lt;chr&gt;</th><th scope=col>&lt;dbl&gt;</th></tr>\n",
       "</thead>\n",
       "<tbody>\n",
       "\t<tr><td>Kyiv     </td><td>Male  </td><td>12150</td></tr>\n",
       "\t<tr><td>Kharkiv  </td><td>Female</td><td>23210</td></tr>\n",
       "\t<tr><td>Lviv     </td><td>Male  </td><td>14353</td></tr>\n",
       "\t<tr><td>Dnipro   </td><td>Female</td><td>22022</td></tr>\n",
       "\t<tr><td>Vinnytsia</td><td>Male  </td><td>11388</td></tr>\n",
       "\t<tr><td>Donetsk  </td><td>Female</td><td>54334</td></tr>\n",
       "</tbody>\n",
       "</table>\n"
      ],
      "text/latex": [
       "A data.frame: 6 × 3\n",
       "\\begin{tabular}{lll}\n",
       " City & Gender & Number\\\\\n",
       " <chr> & <chr> & <dbl>\\\\\n",
       "\\hline\n",
       "\t Kyiv      & Male   & 12150\\\\\n",
       "\t Kharkiv   & Female & 23210\\\\\n",
       "\t Lviv      & Male   & 14353\\\\\n",
       "\t Dnipro    & Female & 22022\\\\\n",
       "\t Vinnytsia & Male   & 11388\\\\\n",
       "\t Donetsk   & Female & 54334\\\\\n",
       "\\end{tabular}\n"
      ],
      "text/markdown": [
       "\n",
       "A data.frame: 6 × 3\n",
       "\n",
       "| City &lt;chr&gt; | Gender &lt;chr&gt; | Number &lt;dbl&gt; |\n",
       "|---|---|---|\n",
       "| Kyiv      | Male   | 12150 |\n",
       "| Kharkiv   | Female | 23210 |\n",
       "| Lviv      | Male   | 14353 |\n",
       "| Dnipro    | Female | 22022 |\n",
       "| Vinnytsia | Male   | 11388 |\n",
       "| Donetsk   | Female | 54334 |\n",
       "\n"
      ],
      "text/plain": [
       "  City      Gender Number\n",
       "1 Kyiv      Male   12150 \n",
       "2 Kharkiv   Female 23210 \n",
       "3 Lviv      Male   14353 \n",
       "4 Dnipro    Female 22022 \n",
       "5 Vinnytsia Male   11388 \n",
       "6 Donetsk   Female 54334 "
      ]
     },
     "metadata": {},
     "output_type": "display_data"
    }
   ],
   "source": [
    "CITY$City <- c(\"Kyiv\", \"Kharkiv\", \"Lviv\", \"Dnipro\", \"Vinnytsia\", \"Donetsk\")\n",
    "CITY"
   ]
  },
  {
   "cell_type": "markdown",
   "id": "bridal-review",
   "metadata": {},
   "source": [
    "# №3"
   ]
  },
  {
   "cell_type": "code",
   "execution_count": 2,
   "id": "seeing-checkout",
   "metadata": {},
   "outputs": [],
   "source": [
    "library(\"readxl\")"
   ]
  },
  {
   "cell_type": "code",
   "execution_count": 4,
   "id": "bright-compound",
   "metadata": {},
   "outputs": [
    {
     "data": {
      "text/html": [
       "<table class=\"dataframe\">\n",
       "<caption>A tibble: 18 × 6</caption>\n",
       "<thead>\n",
       "\t<tr><th scope=col>Name</th><th scope=col>Age</th><th scope=col>Weight</th><th scope=col>Height</th><th scope=col>Blood group</th><th scope=col>Rhesus factor</th></tr>\n",
       "\t<tr><th scope=col>&lt;chr&gt;</th><th scope=col>&lt;dbl&gt;</th><th scope=col>&lt;dbl&gt;</th><th scope=col>&lt;dbl&gt;</th><th scope=col>&lt;dbl&gt;</th><th scope=col>&lt;dbl&gt;</th></tr>\n",
       "</thead>\n",
       "<tbody>\n",
       "\t<tr><td>Ivan    </td><td>23</td><td>80</td><td>178</td><td>2</td><td>0</td></tr>\n",
       "\t<tr><td>Peter   </td><td>18</td><td>62</td><td>168</td><td>1</td><td>0</td></tr>\n",
       "\t<tr><td>Oleg    </td><td>22</td><td>77</td><td>185</td><td>2</td><td>0</td></tr>\n",
       "\t<tr><td>Sergey  </td><td>19</td><td>73</td><td>182</td><td>2</td><td>1</td></tr>\n",
       "\t<tr><td>Vladimir</td><td>20</td><td>65</td><td>166</td><td>1</td><td>1</td></tr>\n",
       "\t<tr><td>Alexey  </td><td>19</td><td>90</td><td>185</td><td>1</td><td>0</td></tr>\n",
       "\t<tr><td>Alexandr</td><td>21</td><td>89</td><td>182</td><td>2</td><td>1</td></tr>\n",
       "\t<tr><td>Boris   </td><td>18</td><td>59</td><td>172</td><td>4</td><td>1</td></tr>\n",
       "\t<tr><td>Igor    </td><td>23</td><td>75</td><td>175</td><td>3</td><td>1</td></tr>\n",
       "\t<tr><td>Artem   </td><td>18</td><td>69</td><td>176</td><td>2</td><td>0</td></tr>\n",
       "\t<tr><td>Andrey  </td><td>20</td><td>81</td><td>184</td><td>3</td><td>0</td></tr>\n",
       "\t<tr><td>Viktor  </td><td>19</td><td>74</td><td>177</td><td>2</td><td>0</td></tr>\n",
       "\t<tr><td>Stepan  </td><td>22</td><td>85</td><td>187</td><td>3</td><td>0</td></tr>\n",
       "\t<tr><td>Grigoriy</td><td>23</td><td>65</td><td>170</td><td>1</td><td>1</td></tr>\n",
       "\t<tr><td>Fedor   </td><td>21</td><td>74</td><td>179</td><td>2</td><td>1</td></tr>\n",
       "\t<tr><td>Anatoliy</td><td>19</td><td>76</td><td>178</td><td>1</td><td>0</td></tr>\n",
       "\t<tr><td>Gleb    </td><td>21</td><td>80</td><td>184</td><td>2</td><td>1</td></tr>\n",
       "\t<tr><td>Anton   </td><td>18</td><td>63</td><td>174</td><td>3</td><td>0</td></tr>\n",
       "</tbody>\n",
       "</table>\n"
      ],
      "text/latex": [
       "A tibble: 18 × 6\n",
       "\\begin{tabular}{llllll}\n",
       " Name & Age & Weight & Height & Blood group & Rhesus factor\\\\\n",
       " <chr> & <dbl> & <dbl> & <dbl> & <dbl> & <dbl>\\\\\n",
       "\\hline\n",
       "\t Ivan     & 23 & 80 & 178 & 2 & 0\\\\\n",
       "\t Peter    & 18 & 62 & 168 & 1 & 0\\\\\n",
       "\t Oleg     & 22 & 77 & 185 & 2 & 0\\\\\n",
       "\t Sergey   & 19 & 73 & 182 & 2 & 1\\\\\n",
       "\t Vladimir & 20 & 65 & 166 & 1 & 1\\\\\n",
       "\t Alexey   & 19 & 90 & 185 & 1 & 0\\\\\n",
       "\t Alexandr & 21 & 89 & 182 & 2 & 1\\\\\n",
       "\t Boris    & 18 & 59 & 172 & 4 & 1\\\\\n",
       "\t Igor     & 23 & 75 & 175 & 3 & 1\\\\\n",
       "\t Artem    & 18 & 69 & 176 & 2 & 0\\\\\n",
       "\t Andrey   & 20 & 81 & 184 & 3 & 0\\\\\n",
       "\t Viktor   & 19 & 74 & 177 & 2 & 0\\\\\n",
       "\t Stepan   & 22 & 85 & 187 & 3 & 0\\\\\n",
       "\t Grigoriy & 23 & 65 & 170 & 1 & 1\\\\\n",
       "\t Fedor    & 21 & 74 & 179 & 2 & 1\\\\\n",
       "\t Anatoliy & 19 & 76 & 178 & 1 & 0\\\\\n",
       "\t Gleb     & 21 & 80 & 184 & 2 & 1\\\\\n",
       "\t Anton    & 18 & 63 & 174 & 3 & 0\\\\\n",
       "\\end{tabular}\n"
      ],
      "text/markdown": [
       "\n",
       "A tibble: 18 × 6\n",
       "\n",
       "| Name &lt;chr&gt; | Age &lt;dbl&gt; | Weight &lt;dbl&gt; | Height &lt;dbl&gt; | Blood group &lt;dbl&gt; | Rhesus factor &lt;dbl&gt; |\n",
       "|---|---|---|---|---|---|\n",
       "| Ivan     | 23 | 80 | 178 | 2 | 0 |\n",
       "| Peter    | 18 | 62 | 168 | 1 | 0 |\n",
       "| Oleg     | 22 | 77 | 185 | 2 | 0 |\n",
       "| Sergey   | 19 | 73 | 182 | 2 | 1 |\n",
       "| Vladimir | 20 | 65 | 166 | 1 | 1 |\n",
       "| Alexey   | 19 | 90 | 185 | 1 | 0 |\n",
       "| Alexandr | 21 | 89 | 182 | 2 | 1 |\n",
       "| Boris    | 18 | 59 | 172 | 4 | 1 |\n",
       "| Igor     | 23 | 75 | 175 | 3 | 1 |\n",
       "| Artem    | 18 | 69 | 176 | 2 | 0 |\n",
       "| Andrey   | 20 | 81 | 184 | 3 | 0 |\n",
       "| Viktor   | 19 | 74 | 177 | 2 | 0 |\n",
       "| Stepan   | 22 | 85 | 187 | 3 | 0 |\n",
       "| Grigoriy | 23 | 65 | 170 | 1 | 1 |\n",
       "| Fedor    | 21 | 74 | 179 | 2 | 1 |\n",
       "| Anatoliy | 19 | 76 | 178 | 1 | 0 |\n",
       "| Gleb     | 21 | 80 | 184 | 2 | 1 |\n",
       "| Anton    | 18 | 63 | 174 | 3 | 0 |\n",
       "\n"
      ],
      "text/plain": [
       "   Name     Age Weight Height Blood group Rhesus factor\n",
       "1  Ivan     23  80     178    2           0            \n",
       "2  Peter    18  62     168    1           0            \n",
       "3  Oleg     22  77     185    2           0            \n",
       "4  Sergey   19  73     182    2           1            \n",
       "5  Vladimir 20  65     166    1           1            \n",
       "6  Alexey   19  90     185    1           0            \n",
       "7  Alexandr 21  89     182    2           1            \n",
       "8  Boris    18  59     172    4           1            \n",
       "9  Igor     23  75     175    3           1            \n",
       "10 Artem    18  69     176    2           0            \n",
       "11 Andrey   20  81     184    3           0            \n",
       "12 Viktor   19  74     177    2           0            \n",
       "13 Stepan   22  85     187    3           0            \n",
       "14 Grigoriy 23  65     170    1           1            \n",
       "15 Fedor    21  74     179    2           1            \n",
       "16 Anatoliy 19  76     178    1           0            \n",
       "17 Gleb     21  80     184    2           1            \n",
       "18 Anton    18  63     174    3           0            "
      ]
     },
     "metadata": {},
     "output_type": "display_data"
    }
   ],
   "source": [
    "warriors <- read_excel(\"warriors.xlsx\")\n",
    "warriors"
   ]
  },
  {
   "cell_type": "code",
   "execution_count": 8,
   "id": "alleged-bride",
   "metadata": {},
   "outputs": [
    {
     "data": {
      "text/html": [
       "<table class=\"dataframe\">\n",
       "<caption>A tibble: 3 × 6</caption>\n",
       "<thead>\n",
       "\t<tr><th scope=col>Name</th><th scope=col>Age</th><th scope=col>Weight</th><th scope=col>Height</th><th scope=col>Blood group</th><th scope=col>Rhesus factor</th></tr>\n",
       "\t<tr><th scope=col>&lt;chr&gt;</th><th scope=col>&lt;dbl&gt;</th><th scope=col>&lt;int&gt;</th><th scope=col>&lt;int&gt;</th><th scope=col>&lt;dbl&gt;</th><th scope=col>&lt;dbl&gt;</th></tr>\n",
       "</thead>\n",
       "<tbody>\n",
       "\t<tr><td>Ivan    </td><td>23</td><td>80</td><td>178</td><td>2</td><td>0</td></tr>\n",
       "\t<tr><td>Igor    </td><td>23</td><td>75</td><td>175</td><td>3</td><td>1</td></tr>\n",
       "\t<tr><td>Grigoriy</td><td>23</td><td>65</td><td>170</td><td>1</td><td>1</td></tr>\n",
       "</tbody>\n",
       "</table>\n"
      ],
      "text/latex": [
       "A tibble: 3 × 6\n",
       "\\begin{tabular}{llllll}\n",
       " Name & Age & Weight & Height & Blood group & Rhesus factor\\\\\n",
       " <chr> & <dbl> & <int> & <int> & <dbl> & <dbl>\\\\\n",
       "\\hline\n",
       "\t Ivan     & 23 & 80 & 178 & 2 & 0\\\\\n",
       "\t Igor     & 23 & 75 & 175 & 3 & 1\\\\\n",
       "\t Grigoriy & 23 & 65 & 170 & 1 & 1\\\\\n",
       "\\end{tabular}\n"
      ],
      "text/markdown": [
       "\n",
       "A tibble: 3 × 6\n",
       "\n",
       "| Name &lt;chr&gt; | Age &lt;dbl&gt; | Weight &lt;int&gt; | Height &lt;int&gt; | Blood group &lt;dbl&gt; | Rhesus factor &lt;dbl&gt; |\n",
       "|---|---|---|---|---|---|\n",
       "| Ivan     | 23 | 80 | 178 | 2 | 0 |\n",
       "| Igor     | 23 | 75 | 175 | 3 | 1 |\n",
       "| Grigoriy | 23 | 65 | 170 | 1 | 1 |\n",
       "\n"
      ],
      "text/plain": [
       "  Name     Age Weight Height Blood group Rhesus factor\n",
       "1 Ivan     23  80     178    2           0            \n",
       "2 Igor     23  75     175    3           1            \n",
       "3 Grigoriy 23  65     170    1           1            "
      ]
     },
     "metadata": {},
     "output_type": "display_data"
    }
   ],
   "source": [
    "warriors$Weight <- as.integer(warriors$Weight)\n",
    "warriors$Height <- as.integer(warriors$Height)\n",
    "troopers <- warriors[warriors$Age >= 23L,]\n",
    "troopers"
   ]
  },
  {
   "cell_type": "markdown",
   "id": "played-immune",
   "metadata": {},
   "source": [
    "# №4"
   ]
  },
  {
   "cell_type": "code",
   "execution_count": 20,
   "id": "simplified-filename",
   "metadata": {},
   "outputs": [],
   "source": [
    "students <- data.frame(\n",
    "    FullName=c(\"Goncharuk Alexey Ivanovich\", \"Bardash Eugene Petrovich\", \"Haritonskiy Vitaliy Alexandrovich\", \"Vozna Olena Viktorivna\"),\n",
    "    Department=c(\"Mathematics\", \"Geography\", \"Geography\", \"Economics\"),\n",
    "    Form=c(\"Contract\", \"Budget\", \"Budget\", \"Budget\"),\n",
    "    Specialization=c(\"Applied Math\", \"Geology\", \"Meteorology\", \"Macroeconomics\"),\n",
    "    Exam1=c(3, 4, 5, 3),\n",
    "    Exam2=c(4, 3, 4, 5),\n",
    "    Exam3=c(5, 5, 3, 3),\n",
    "    Exam4=c(4, 4, 4, 3)\n",
    ")"
   ]
  },
  {
   "cell_type": "code",
   "execution_count": 12,
   "id": "integrated-relative",
   "metadata": {},
   "outputs": [
    {
     "name": "stdout",
     "output_type": "stream",
     "text": [
      "3.75 4 4 3.75"
     ]
    }
   ],
   "source": [
    "cat(mean(students$Exam1), mean(students$Exam2), mean(students$Exam3), mean(students$Exam4))"
   ]
  },
  {
   "cell_type": "code",
   "execution_count": 13,
   "id": "retained-diagnosis",
   "metadata": {},
   "outputs": [],
   "source": [
    "mode <- function(x) {\n",
    "  ux <- unique(x)\n",
    "  ux[which.max(tabulate(match(x, ux)))]\n",
    "}"
   ]
  },
  {
   "cell_type": "code",
   "execution_count": 18,
   "id": "psychological-innocent",
   "metadata": {},
   "outputs": [
    {
     "name": "stdout",
     "output_type": "stream",
     "text": [
      "3 4 5 4"
     ]
    }
   ],
   "source": [
    "cat(mode(students$Exam1), mode(students$Exam2), mode(students$Exam3), mode(students$Exam4))"
   ]
  },
  {
   "cell_type": "code",
   "execution_count": 24,
   "id": "assisted-terminology",
   "metadata": {},
   "outputs": [
    {
     "data": {
      "text/html": [
       "<table class=\"dataframe\">\n",
       "<caption>A data.frame: 2 × 8</caption>\n",
       "<thead>\n",
       "\t<tr><th></th><th scope=col>FullName</th><th scope=col>Department</th><th scope=col>Form</th><th scope=col>Specialization</th><th scope=col>Exam1</th><th scope=col>Exam2</th><th scope=col>Exam3</th><th scope=col>Exam4</th></tr>\n",
       "\t<tr><th></th><th scope=col>&lt;chr&gt;</th><th scope=col>&lt;chr&gt;</th><th scope=col>&lt;chr&gt;</th><th scope=col>&lt;chr&gt;</th><th scope=col>&lt;dbl&gt;</th><th scope=col>&lt;dbl&gt;</th><th scope=col>&lt;dbl&gt;</th><th scope=col>&lt;dbl&gt;</th></tr>\n",
       "</thead>\n",
       "<tbody>\n",
       "\t<tr><th scope=row>2</th><td>Bardash Eugene Petrovich         </td><td>Geography</td><td>Budget</td><td>Geology    </td><td>4</td><td>3</td><td>5</td><td>4</td></tr>\n",
       "\t<tr><th scope=row>3</th><td>Haritonskiy Vitaliy Alexandrovich</td><td>Geography</td><td>Budget</td><td>Meteorology</td><td>5</td><td>4</td><td>3</td><td>4</td></tr>\n",
       "</tbody>\n",
       "</table>\n"
      ],
      "text/latex": [
       "A data.frame: 2 × 8\n",
       "\\begin{tabular}{r|llllllll}\n",
       "  & FullName & Department & Form & Specialization & Exam1 & Exam2 & Exam3 & Exam4\\\\\n",
       "  & <chr> & <chr> & <chr> & <chr> & <dbl> & <dbl> & <dbl> & <dbl>\\\\\n",
       "\\hline\n",
       "\t2 & Bardash Eugene Petrovich          & Geography & Budget & Geology     & 4 & 3 & 5 & 4\\\\\n",
       "\t3 & Haritonskiy Vitaliy Alexandrovich & Geography & Budget & Meteorology & 5 & 4 & 3 & 4\\\\\n",
       "\\end{tabular}\n"
      ],
      "text/markdown": [
       "\n",
       "A data.frame: 2 × 8\n",
       "\n",
       "| <!--/--> | FullName &lt;chr&gt; | Department &lt;chr&gt; | Form &lt;chr&gt; | Specialization &lt;chr&gt; | Exam1 &lt;dbl&gt; | Exam2 &lt;dbl&gt; | Exam3 &lt;dbl&gt; | Exam4 &lt;dbl&gt; |\n",
       "|---|---|---|---|---|---|---|---|---|\n",
       "| 2 | Bardash Eugene Petrovich          | Geography | Budget | Geology     | 4 | 3 | 5 | 4 |\n",
       "| 3 | Haritonskiy Vitaliy Alexandrovich | Geography | Budget | Meteorology | 5 | 4 | 3 | 4 |\n",
       "\n"
      ],
      "text/plain": [
       "  FullName                          Department Form   Specialization Exam1\n",
       "2 Bardash Eugene Petrovich          Geography  Budget Geology        4    \n",
       "3 Haritonskiy Vitaliy Alexandrovich Geography  Budget Meteorology    5    \n",
       "  Exam2 Exam3 Exam4\n",
       "2 3     5     4    \n",
       "3 4     3     4    "
      ]
     },
     "metadata": {},
     "output_type": "display_data"
    }
   ],
   "source": [
    "selection <- students[(students$Form != \"Contract\") & (students$Department != \"Economics\"),]\n",
    "selection"
   ]
  },
  {
   "cell_type": "code",
   "execution_count": 25,
   "id": "alive-waters",
   "metadata": {},
   "outputs": [
    {
     "name": "stdout",
     "output_type": "stream",
     "text": [
      "4.5 3.5 4 4"
     ]
    }
   ],
   "source": [
    "cat(mean(selection$Exam1), mean(selection$Exam2), mean(selection$Exam3), mean(selection$Exam4))"
   ]
  },
  {
   "cell_type": "code",
   "execution_count": 26,
   "id": "unlike-singing",
   "metadata": {},
   "outputs": [
    {
     "name": "stdout",
     "output_type": "stream",
     "text": [
      "4 3 5 4"
     ]
    }
   ],
   "source": [
    "cat(mode(selection$Exam1), mode(selection$Exam2), mode(selection$Exam3), mode(selection$Exam4))"
   ]
  }
 ],
 "metadata": {
  "kernelspec": {
   "display_name": "R",
   "language": "R",
   "name": "ir"
  },
  "language_info": {
   "codemirror_mode": "r",
   "file_extension": ".r",
   "mimetype": "text/x-r-source",
   "name": "R",
   "pygments_lexer": "r",
   "version": "4.0.3"
  }
 },
 "nbformat": 4,
 "nbformat_minor": 5
}
